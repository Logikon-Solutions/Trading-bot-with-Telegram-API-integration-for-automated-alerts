{
 "cells": [
  {
   "cell_type": "markdown",
   "id": "68bd7bfc-e2b6-43b5-8130-fbc97ab76916",
   "metadata": {},
   "source": [
    "# Get Prices from CoinGecko"
   ]
  },
  {
   "cell_type": "code",
   "execution_count": 11,
   "id": "d0e7b441-0fb8-4c76-a529-e78cf17beb66",
   "metadata": {},
   "outputs": [],
   "source": [
    "# price_fetcher.py\n",
    "import requests\n",
    "\n",
    "def get_prices():\n",
    "    url = \"https://api.coingecko.com/api/v3/simple/price\"\n",
    "    params = {\n",
    "        'ids': 'bitcoin,ethereum',\n",
    "        'vs_currencies': 'usd'\n",
    "    }\n",
    "    response = requests.get(url, params=params)\n",
    "    data = response.json()\n",
    "    return {coin: data[coin]['usd'] for coin in data}"
   ]
  },
  {
   "cell_type": "code",
   "execution_count": 5,
   "id": "c780aa2f-1125-4927-853e-19b0e1459cc5",
   "metadata": {},
   "outputs": [],
   "source": [
    "token_path = r'//project/Trading bot with Telegram integration/Telegram_token.txt'\n",
    "def load_token(path=token_path):\n",
    "    with open(path, \"r\") as f:\n",
    "        return f.read().strip()\n"
   ]
  },
  {
   "cell_type": "code",
   "execution_count": 6,
   "id": "e14c514b-adcb-4758-ab81-e668d7bc744b",
   "metadata": {},
   "outputs": [],
   "source": [
    "TELEGRAM_TOKEN = load_token()"
   ]
  },
  {
   "cell_type": "code",
   "execution_count": 8,
   "id": "07a7cbf0-9141-4215-ab30-3d21ea5b1cab",
   "metadata": {},
   "outputs": [],
   "source": [
    "chat_path = r'//project/Trading bot with Telegram integration/Telegram_chat.txt'\n",
    "def load_token(path=chat_path):\n",
    "    with open(path, \"r\") as f:\n",
    "        return f.read().strip()"
   ]
  },
  {
   "cell_type": "code",
   "execution_count": 10,
   "id": "d1751ea3-8a8e-4d58-834f-f45ca10997d5",
   "metadata": {},
   "outputs": [],
   "source": [
    "TELEGRAM_CHAT_ID = load_token()"
   ]
  },
  {
   "cell_type": "markdown",
   "id": "29c54673-b370-49c4-a4ff-6d662ea06b56",
   "metadata": {},
   "source": [
    "# Rebalancing logic"
   ]
  },
  {
   "cell_type": "code",
   "execution_count": 12,
   "id": "c15bc3dd-89c0-4f7d-bc43-864d68959c0c",
   "metadata": {},
   "outputs": [],
   "source": [
    "# rebalance_logic.py\n",
    "# from config import TARGET_ALLOCATION, THRESHOLD\n",
    "\n",
    "# portfolio etc could have been set in a config but will give an example target here:\n",
    "PORTFOLIO = {\n",
    "    'bitcoin': 0.15,   # in BTC\n",
    "    'ethereum': 2.0    # in ETH\n",
    "}\n",
    "\n",
    "TARGET_ALLOCATION = {\n",
    "    'bitcoin': 0.6,\n",
    "    'ethereum': 0.4\n",
    "}\n",
    "\n",
    "THRESHOLD = 0.05  # 5% deviation\n",
    "\n",
    "\n",
    "def get_portfolio_allocation(portfolio, prices):\n",
    "    values = {coin: amount * prices[coin] for coin, amount in portfolio.items()}\n",
    "    total = sum(values.values())\n",
    "    return {coin: val / total for coin, val in values.items()}, values\n",
    "\n",
    "def needs_rebalancing(current_alloc):\n",
    "    actions = []\n",
    "    for coin, target_pct in TARGET_ALLOCATION.items():\n",
    "        current_pct = current_alloc.get(coin, 0.0)\n",
    "        deviation = current_pct - target_pct\n",
    "        if abs(deviation) > THRESHOLD:\n",
    "            actions.append({\n",
    "                'asset': coin,\n",
    "                'action': 'SELL' if deviation > 0 else 'BUY',\n",
    "                'deviation': deviation\n",
    "            })\n",
    "    return actions"
   ]
  },
  {
   "cell_type": "markdown",
   "id": "f6bee3cf-b240-4329-a8e8-12e596ab513b",
   "metadata": {},
   "source": [
    "# Telegram Notifier"
   ]
  },
  {
   "cell_type": "code",
   "execution_count": 13,
   "id": "ded61389-8223-4585-a762-720ac5a047fd",
   "metadata": {},
   "outputs": [],
   "source": [
    "# notifier.py\n",
    "import requests\n",
    "\n",
    "def send_telegram_message(message):\n",
    "    url = f\"https://api.telegram.org/bot{TELEGRAM_TOKEN}/sendMessage\"\n",
    "    data = {\n",
    "        'chat_id': TELEGRAM_CHAT_ID,\n",
    "        'text': message\n",
    "    }\n",
    "    requests.post(url, data=data)"
   ]
  },
  {
   "cell_type": "code",
   "execution_count": 14,
   "id": "021c768c-f03e-450f-ad4e-e1522c019817",
   "metadata": {},
   "outputs": [],
   "source": [
    "send_telegram_message(\"Pargooooo\")"
   ]
  },
  {
   "cell_type": "markdown",
   "id": "d3809423-fd73-43ba-9cd0-fe8543a43d03",
   "metadata": {},
   "source": [
    "# Main Orchestrator\n",
    "Sends message to chat_id"
   ]
  },
  {
   "cell_type": "code",
   "execution_count": 17,
   "id": "95d7b4d2-7c40-4a77-8d7a-694e6ede05d1",
   "metadata": {},
   "outputs": [],
   "source": [
    "def run_bot():\n",
    "    prices = get_prices()\n",
    "    current_alloc, values = get_portfolio_allocation(PORTFOLIO, prices)\n",
    "\n",
    "    actions = needs_rebalancing(current_alloc)\n",
    "    if not actions:\n",
    "        send_telegram_message(\"Portfolio is balanced. No rebalancing needed.\")\n",
    "        return\n",
    "\n",
    "    message = \"Rebalancing Alert:\\n\\n\"\n",
    "    for action in actions:\n",
    "        coin = action['asset']\n",
    "        pct = current_alloc.get(coin, 0)\n",
    "        target = TARGET_ALLOCATION[coin]\n",
    "        message += f\"{action['action']} {coin.upper()} | Current: {pct:.2%}, Target: {target:.2%}\\n\"\n",
    "    \n",
    "    send_telegram_message(message)\n",
    "\n",
    "if __name__ == \"__main__\":\n",
    "    run_bot()"
   ]
  },
  {
   "cell_type": "markdown",
   "id": "37136c64-c7cb-4cab-8553-e5a12027cd83",
   "metadata": {},
   "source": [
    "# Run It on a Schedule"
   ]
  },
  {
   "cell_type": "code",
   "execution_count": 19,
   "id": "ef5dbc08-c882-4671-ae5e-0f2bf5a3f86a",
   "metadata": {},
   "outputs": [
    {
     "ename": "KeyboardInterrupt",
     "evalue": "",
     "output_type": "error",
     "traceback": [
      "\u001b[0;31m---------------------------------------------------------------------------\u001b[0m",
      "\u001b[0;31mKeyboardInterrupt\u001b[0m                         Traceback (most recent call last)",
      "Cell \u001b[0;32mIn[19], line 9\u001b[0m\n\u001b[1;32m      7\u001b[0m \u001b[38;5;28;01mwhile\u001b[39;00m \u001b[38;5;28;01mTrue\u001b[39;00m:\n\u001b[1;32m      8\u001b[0m     schedule\u001b[38;5;241m.\u001b[39mrun_pending()\n\u001b[0;32m----> 9\u001b[0m     \u001b[43mtime\u001b[49m\u001b[38;5;241;43m.\u001b[39;49m\u001b[43msleep\u001b[49m\u001b[43m(\u001b[49m\u001b[38;5;241;43m30\u001b[39;49m\u001b[43m)\u001b[49m\n",
      "\u001b[0;31mKeyboardInterrupt\u001b[0m: "
     ]
    }
   ],
   "source": [
    "# schedule_runner.py\n",
    "import schedule\n",
    "import time\n",
    "\n",
    "schedule.every().hour.do(run_bot)\n",
    "\n",
    "while True:\n",
    "    schedule.run_pending()\n",
    "    time.sleep(30)"
   ]
  },
  {
   "cell_type": "code",
   "execution_count": null,
   "id": "07edd798-2392-4e99-8a98-2a35e35294df",
   "metadata": {},
   "outputs": [],
   "source": []
  },
  {
   "cell_type": "code",
   "execution_count": null,
   "id": "b6e00034-543c-411c-9d70-3c02c7ffddee",
   "metadata": {},
   "outputs": [],
   "source": []
  }
 ],
 "metadata": {
  "kernelspec": {
   "display_name": "Python 3 (ipykernel)",
   "language": "python",
   "name": "python3"
  },
  "language_info": {
   "codemirror_mode": {
    "name": "ipython",
    "version": 3
   },
   "file_extension": ".py",
   "mimetype": "text/x-python",
   "name": "python",
   "nbconvert_exporter": "python",
   "pygments_lexer": "ipython3",
   "version": "3.10.18"
  }
 },
 "nbformat": 4,
 "nbformat_minor": 5
}
